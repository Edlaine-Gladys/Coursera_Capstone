{
 "cells": [
  {
   "cell_type": "markdown",
   "metadata": {},
   "source": [
    "# Capstone Project - Dry Bars\n",
    "### Applied Data Science Capstone by IBM/Coursera"
   ]
  },
  {
   "cell_type": "markdown",
   "metadata": {},
   "source": [
    "## Table of Contents\n",
    "1. [Introduction](#introduction)\n",
    "2. [Data](#data)\n",
    "3. [Methodology](#methodology)\n",
    "4. [Extract specific data](#analysis)\n",
    "5. [Machine Learning and Results](#visuals)\n",
    "6. [Conclusion](#conclusion)"
   ]
  },
  {
   "cell_type": "markdown",
   "metadata": {},
   "source": [
    "---\n",
    "## 1. Introduction: Business Problem<a name=\"introduction\"></a>\n",
    "---"
   ]
  },
  {
   "cell_type": "markdown",
   "metadata": {},
   "source": [
    "With the objective of studying possible locations for the opening of a business that has not yet been explored in Brazil, this project brings the concept of the **Dry Bar**, with a proposal to identify suitable places that received this type of establishment, it requires a future extrapolation to other cities.\n",
    "\n",
    "The **Dry Bar** concept emerged in California in 2010 and is based on offering fast beauty salon services, at prices that promise to be more affordable than in traditional spaces. Due to the facilities, agility and inviting prices, they have already become a common presence in cities such as New York and Los Angeles.\n",
    "\n",
    "For the development of the project, the choice was to map a region of New York City, seeking to understand elements of geolocation and their relevance, for the installation of the Dry Bar. It is considered that this is a service dependent on the flow of people from the female, with little time available and profile that values good presentation in the work environment. These are determining factors for the success of this business model.\n",
    "\n",
    "\n",
    "- Project's goal:\n",
    "\n",
    "Find Dry Bars in the observation region, analyzing its surroundings from the study of clusters.\n",
    "One way found to complement this study was to analyze the evaluations given by customers, considering that, in addition to the quality of service, the ease of access, an element related to location, is implicit. Thus, the objective is to try to understand the relationship of location of these groups and to seek similarities with the central region of the City of Rio de Janeiro.\n",
    "\n",
    "The starting point was the mapping of the Midtown region, on Manhattan Island, which in addition to being one of the main tourist spots in New York City, is also home to numerous large companies, where, due to these characteristics, the profile of the city is concentrated. public for this type of business; women with lots of activities and little time for traditional beauty salons.\n",
    "\n",
    "Based on these criteria, Foursquare will be used as a source of data for these areas. \n",
    "\n",
    "The ‘k-means clustering’ unsupervised learning algorithm will provide clarification of the advantages of each area, so that the best possible location is defined, for future referrals to those interested in implementing this business in downtown Rio de Janeiro.\n"
   ]
  },
  {
   "cell_type": "markdown",
   "metadata": {},
   "source": [
    "<a name=\"data\"></a>[Scroll Back to Table of Contents](#tableofContents)"
   ]
  },
  {
   "cell_type": "markdown",
   "metadata": {},
   "source": [
    "---\n",
    "## 2. Data <a name=\"data\"></a>\n",
    "---"
   ]
  },
  {
   "cell_type": "markdown",
   "metadata": {},
   "source": [
    "Based on the problem definition, the data source was:\n",
    "\n",
    "- **API do Foursquare:**\n",
    "\n",
    " Link: <https://developer.foursquare.com/docs>\n",
    "    \n",
    "Description: Foursquare API, a location data provider, will be used to make RESTful API calls to retrieve data about venues in different neighborhoods. This is the link to [Foursquare Venue Category Hierarchy](https://developer.foursquare.com/docs/resources/categories). Venues retrieved from all the neighborhoods are categorized broadly into \"Arts & Entertainment\", \"College & University\", \"Event\", \"Food\", \"Nightlife Spot\", \"Outdoors & Recreation\", etc. An extract of an API call is as follows:\n",
    "```\n",
    "\t'categories': [{'id': '4bf58dd8d48988d110941735',\n",
    "\t   'name': 'Italian Restaurant',\n",
    "\t   'pluralName': 'Italian Restaurants',\n",
    "\t   'shortName': 'Italian',\n",
    "\t   'icon': {'prefix': 'https://ss3.4sqi.net/img/categories_v2/food/italian_',\n",
    "\t   'suffix': '.png'},\n",
    "\t   'primary': True}],\n",
    "\t'verified': False,\n",
    "\t'stats': {'tipCount': 17},\n",
    "\t'url': 'http://eccorestaurantny.com',\n",
    "\t'price': {'tier': 4, 'message': 'Very Expensive', 'currency'\n",
    "```\n"
   ]
  },
  {
   "cell_type": "markdown",
   "metadata": {},
   "source": [
    "> **3.1**  Download all the dependencies.\n",
    "\n",
    "> **3.2**  Use the geopy library to find the latitude and longitude of the Manhattan district.\n",
    "\n",
    "> **3.3**  From that location, use a radius of 9500 to search for Drybars in the region. \n",
    "The \"query\" is very important because the project is about a specific business and not a traditional beauty salon, as it is a relatively new trend it is likely that few returns will occur.\n",
    "\n",
    "> **3.4**  View these establishments.\n"
   ]
  }
 ],
 "metadata": {
  "kernelspec": {
   "display_name": "Python 3",
   "language": "python",
   "name": "python3"
  },
  "language_info": {
   "codemirror_mode": {
    "name": "ipython",
    "version": 3
   },
   "file_extension": ".py",
   "mimetype": "text/x-python",
   "name": "python",
   "nbconvert_exporter": "python",
   "pygments_lexer": "ipython3",
   "version": "3.8.5"
  }
 },
 "nbformat": 4,
 "nbformat_minor": 4
}
